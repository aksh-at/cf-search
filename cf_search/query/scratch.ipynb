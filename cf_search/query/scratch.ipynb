{
 "cells": [
  {
   "cell_type": "code",
   "execution_count": null,
   "id": "professional-connection",
   "metadata": {},
   "outputs": [],
   "source": [
    "import requests\n",
    "\n",
    "contests = requests.get(\"https://codeforces.com/api/contest.list\").json()"
   ]
  },
  {
   "cell_type": "code",
   "execution_count": null,
   "id": "medical-correlation",
   "metadata": {},
   "outputs": [],
   "source": [
    "contests"
   ]
  },
  {
   "cell_type": "code",
   "execution_count": null,
   "id": "miniature-childhood",
   "metadata": {},
   "outputs": [],
   "source": [
    "import requests\n",
    "\n",
    "subs = requests.get(\"https://codeforces.com/api/contest.status?contestId=1500&from=1&count=10000\").json()"
   ]
  },
  {
   "cell_type": "code",
   "execution_count": null,
   "id": "saved-hostel",
   "metadata": {},
   "outputs": [],
   "source": [
    "subs[\"result\"][2]"
   ]
  },
  {
   "cell_type": "code",
   "execution_count": null,
   "id": "sweet-error",
   "metadata": {},
   "outputs": [],
   "source": [
    "import requests\n",
    "\n",
    "probs = requests.get(\"https://codeforces.com/api/problemset.problems\")\n",
    "print(probs)"
   ]
  },
  {
   "cell_type": "code",
   "execution_count": null,
   "id": "instructional-spyware",
   "metadata": {},
   "outputs": [],
   "source": [
    "res = probs.json()[\"result\"]\n",
    "print(res[\"problems\"][1240])\n",
    "print(res[\"problemStatistics\"][5].get(\"rating\"))"
   ]
  },
  {
   "cell_type": "code",
   "execution_count": null,
   "id": "motivated-syntax",
   "metadata": {},
   "outputs": [],
   "source": [
    "req = requests.get(\"https://codeforces.com/contest/1497/submission/110946701\")\n",
    "print(req.status_code)"
   ]
  },
  {
   "cell_type": "code",
   "execution_count": null,
   "id": "celtic-consultancy",
   "metadata": {},
   "outputs": [],
   "source": [
    "from lxml import html\n",
    "\n",
    "tree = html.fromstring(req.text)"
   ]
  },
  {
   "cell_type": "code",
   "execution_count": null,
   "id": "combined-greek",
   "metadata": {},
   "outputs": [],
   "source": [
    "tree.xpath('//*[@id=\"pageContent\"]/div[3]/pre/text()')[0]"
   ]
  },
  {
   "cell_type": "code",
   "execution_count": 1,
   "id": "married-software",
   "metadata": {},
   "outputs": [],
   "source": [
    "import os, sys\n",
    "dir = os.path.abspath('../')\n",
    "sys.path.append(dir)\n",
    "\n",
    "from query.api import execute_query, get_default_adapter\n",
    "\n",
    "\n",
    "adapter = get_default_adapter()"
   ]
  },
  {
   "cell_type": "code",
   "execution_count": 2,
   "id": "hydraulic-procurement",
   "metadata": {},
   "outputs": [
    {
     "data": {
      "text/plain": [
       "[{'contest_id': 1497,\n",
       "  'contest_name': 'Codeforces Round #708 (Div. 2)',\n",
       "  'submission_id': 110946701,\n",
       "  'language': 'Haskell',\n",
       "  'verdict': 'OK',\n",
       "  'source_code': \"{-# LANGUAGE BangPatterns #-}\\n\\nimport Control.Monad\\nimport Data.Array.Unboxed\\nimport Data.Array.ST\\nimport Data.Array.MArray\\nimport qualified Data.ByteString.Char8 as B\\nimport Data.Char\\nimport Data.List (foldl')\\n-- import Debug.Trace\\n\\nimport Data.Maybe (fromJust)\\nimport System.IO\\nimport Text.Read\\nimport GHC.Int (Int64)\\n\\ngetNum :: IO Int\\ngetNum = fst . fromJust . B.readInt <$> B.getLine\\n\\ngetNums :: IO [Int]\\ngetNums = map ((fst . fromJust) . B.readInt) . B.split ' ' <$> B.getLine\\n\\nshowNums :: [Int] -> IO ()\\nshowNums xs = putStrLn $ unwords $ map show xs\\n\\nmain :: IO ()\\nmain = do\\n  t <- getNum\\n  forM_ [1 .. t] handleCase\\n\\nhandleCase :: Int -> IO ()\\nhandleCase c = do\\n  n <- getNum\\n  tags <- getNums\\n  ss <- getNums\\n  print $ solve n tags ss\\n\\ntype Arr = UArray Int Int\\n\\nsolve :: Int -> [Int] -> [Int] -> Int64\\nsolve n tags ss = maximum $ 0 : elems dpN\\n  where\\n    tagArr = listArray (1, n) tags :: Arr\\n    sArr = listArray (1, n) ss :: Arr\\n\\n    -- validEdge (i, j) = i > j && ((tagMap ! i) /= (tagMap ! j))\\n    -- !es' = liftM2 (,) [1..n] [n,n-1..1]\\n    -- !es = filter validEdge es'\\n\\n    !es = do\\n      j <- [2 .. n]\\n      i <- [j -1, j -2 .. 1]\\n      guard ((tagArr ! i) /= (tagArr ! j))\\n      return (i, j)\\n\\n    dpN :: UArray Int Int64\\n    dpN = runSTUArray $ do\\n      ar <- newArray (1, n) 0\\n      forM_ es $ \\\\(i, j) -> do\\n        dpI <- readArray ar i\\n        dpJ <- readArray ar j\\n        let p = abs $ (sArr ! i) - (sArr ! j)\\n        let dpI' = max dpI (dpJ + fromIntegral p)\\n        let dpJ' = max dpJ (dpI + fromIntegral p)\\n        writeArray ar j dpJ'\\n        writeArray ar i dpI'\\n      return ar\\n\",\n",
       "  'problem_name': 'Genius',\n",
       "  'rating': 2500},\n",
       " {'contest_id': 1497,\n",
       "  'contest_name': 'Codeforces Round #708 (Div. 2)',\n",
       "  'submission_id': 110698423,\n",
       "  'language': 'Haskell',\n",
       "  'verdict': 'OK',\n",
       "  'source_code': \"{-# LANGUAGE BangPatterns #-}\\n\\nimport Control.Monad\\nimport qualified Data.ByteString.Char8 as B\\nimport Data.Char\\nimport Data.List (group, sort)\\nimport Data.Map ((!))\\nimport qualified Data.Map as M\\n-- import Debug.Trace\\n\\nimport Data.Maybe (fromJust)\\nimport System.IO\\nimport Text.Read\\n\\ngetNums :: IO [Int]\\ngetNums = do\\n  line <- B.getLine\\n  return $ map ((fst . fromJust) . B.readInt) . B.split ' ' $ line\\n\\nmain :: IO ()\\nmain = do\\n  t <- readLn :: IO Integer\\n  forM_ [1 .. t] handleCase\\n\\nhandleCase :: Integer -> IO ()\\nhandleCase c = do\\n  [n, k] <- getNums\\n  putStrLn $ unwords $ map show $ solve n k\\n\\nsolveEasy :: Int -> [Int]\\nsolveEasy n\\n  | n `mod` 2 == 1 = [1, (n - 1) `div` 2, (n -1) `div` 2]\\n  | n `mod` 4 == 0 = [n `div` 2, n `div` 4, n `div` 4]\\n  | n `mod` 4 == 2 = [2, (n - 1) `div` 2, (n -1) `div` 2]\\n\\nsolve n k = replicate (k - 3) 1 ++ solveEasy (n - (k - 3))\\n\",\n",
       "  'problem_name': 'k-LCM (hard version)',\n",
       "  'rating': 1600},\n",
       " {'contest_id': 1497,\n",
       "  'contest_name': 'Codeforces Round #708 (Div. 2)',\n",
       "  'submission_id': 110204196,\n",
       "  'language': 'Haskell',\n",
       "  'verdict': 'OK',\n",
       "  'source_code': \"import qualified Data.ByteString.Lazy.Char8 as P\\nimport qualified Data.ByteString.Builder as B\\nimport System.IO\\n\\nimport Control.Monad\\nimport Control.Monad.Trans.State\\nimport Control.Monad.Trans.Class\\nimport Data.List\\nimport Data.Semigroup\\n\\nsolve :: Int -> [Int]\\nsolve n\\n  | odd n = 1 : replicate 2 (div n 2)\\n  | mod n 4 == 0 = div n 2 : replicate 2 (div n 4)\\n  | otherwise = 2 : replicate 2 (div n 2 - 1)\\n\\nmain :: IO ()\\nmain = (P.getContents >>=) . evalStateT $ do\\n  [t] <- readInts\\n  replicateM_ t $ do\\n    [n, k] <- readInts\\n    putInts $ solve (n - (k - 3)) ++ replicate (k - 3) 1\\n\\ntype SIO = StateT P.ByteString IO\\n\\nreadLine :: SIO P.ByteString\\nreadLine = do\\n  (out, next) <- P.break (<= '\\\\r') <$> get\\n  put $ P.dropWhile (<= '\\\\r') next\\n  pure out\\n\\nreadInts :: SIO [Int]\\nreadInts = do\\n  currLine <- readLine\\n  pure [x | Just (x, _) <- P.readInt <$> P.words currLine]\\n\\nputInts :: [Int] -> SIO ()\\nputInts li = let\\n  outBuilder = foldr (<>) (B.char7 '\\\\n')\\n    $ intersperse (B.char7 ' ') (map B.intDec li)\\n  in  lift $ B.hPutBuilder stdout outBuilder\\n\",\n",
       "  'problem_name': 'k-LCM (hard version)',\n",
       "  'rating': 1600}]"
      ]
     },
     "execution_count": 2,
     "metadata": {},
     "output_type": "execute_result"
    }
   ],
   "source": [
    "query = \"\"\"\n",
    "{\n",
    "    Contest {\n",
    "        id \n",
    "            @filter(op_name: \">=\", value: [\"$min_id\"]) \n",
    "            @filter(op_name: \"<=\", value: [\"$max_id\"]) \n",
    "            @output(out_name: \"contest_id\")\n",
    "        name @output(out_name: \"contest_name\")\n",
    "        \n",
    "        out_Contest_Submission {\n",
    "            id @output(out_name: \"submission_id\")\n",
    "            programming_language \n",
    "                @filter(op_name: \"=\", value: [\"$lang_name\"])\n",
    "                @output(out_name: \"language\")\n",
    "            verdict \n",
    "                @filter(op_name: \"=\", value: [\"$verdict\"])\n",
    "                @output(out_name: \"verdict\")\n",
    "                \n",
    "            out_Submission_Source {\n",
    "                source_code @output(out_name: \"source_code\")\n",
    "            }\n",
    "            \n",
    "            in_Submission_Problem {\n",
    "                name @output(out_name: \"problem_name\")\n",
    "                rating \n",
    "                    @filter(op_name: \">=\", value: [\"$min_rating\"])\n",
    "                    @output(out_name: \"rating\")\n",
    "            }\n",
    "        }\n",
    "    }\n",
    "}\n",
    "\"\"\"\n",
    "\n",
    "args = {\n",
    "    \"min_id\": 1497,\n",
    "    \"max_id\": 1497,\n",
    "    \"min_rating\": 1600,\n",
    "    \"lang_name\": \"Haskell\",\n",
    "    \"verdict\": \"OK\",\n",
    "}\n",
    "\n",
    "res = list(execute_query(adapter, query, args))\n",
    "res"
   ]
  },
  {
   "cell_type": "code",
   "execution_count": null,
   "id": "russian-blowing",
   "metadata": {},
   "outputs": [],
   "source": [
    "langs = set(map(lambda x: x['language'], res))\n",
    "print(langs)"
   ]
  },
  {
   "cell_type": "code",
   "execution_count": null,
   "id": "fatty-testimony",
   "metadata": {},
   "outputs": [],
   "source": [
    "query = \"\"\"\n",
    "{\n",
    "    Problem {\n",
    "        name @output(out_name: \"name\")\n",
    "        solved_count\n",
    "            @filter(op_name: \"<=\", value: [\"$max_solves\"])\n",
    "            @output(out_name: \"solved_count\")\n",
    "    }\n",
    "}\n",
    "\"\"\"\n",
    "\n",
    "args = {\n",
    "    \"max_solves\": 50,\n",
    "}\n",
    "\n",
    "res = list(execute_query(adapter, query, args))\n",
    "res"
   ]
  },
  {
   "cell_type": "code",
   "execution_count": null,
   "id": "executive-longer",
   "metadata": {},
   "outputs": [],
   "source": []
  }
 ],
 "metadata": {
  "kernelspec": {
   "display_name": "Python 3",
   "language": "python",
   "name": "python3"
  },
  "language_info": {
   "codemirror_mode": {
    "name": "ipython",
    "version": 3
   },
   "file_extension": ".py",
   "mimetype": "text/x-python",
   "name": "python",
   "nbconvert_exporter": "python",
   "pygments_lexer": "ipython3",
   "version": "3.8.1"
  }
 },
 "nbformat": 4,
 "nbformat_minor": 5
}
