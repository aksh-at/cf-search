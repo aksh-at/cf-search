{
 "cells": [
  {
   "cell_type": "code",
   "execution_count": null,
   "id": "professional-connection",
   "metadata": {},
   "outputs": [],
   "source": [
    "import requests\n",
    "\n",
    "contests = requests.get(\"https://codeforces.com/api/contest.list\").json()"
   ]
  },
  {
   "cell_type": "code",
   "execution_count": null,
   "id": "medical-correlation",
   "metadata": {},
   "outputs": [],
   "source": [
    "contests"
   ]
  },
  {
   "cell_type": "code",
   "execution_count": null,
   "id": "miniature-childhood",
   "metadata": {},
   "outputs": [],
   "source": [
    "subs = requests.get(\"https://codeforces.com/api/contest.status?contestId=1500&from=1&count=10000\").json()"
   ]
  },
  {
   "cell_type": "code",
   "execution_count": null,
   "id": "saved-hostel",
   "metadata": {},
   "outputs": [],
   "source": [
    "subs"
   ]
  },
  {
   "cell_type": "code",
   "execution_count": null,
   "id": "motivated-syntax",
   "metadata": {},
   "outputs": [],
   "source": [
    "req = requests.get(\"https://codeforces.com/contest/1497/submission/110946701\")\n",
    "print(req.text)"
   ]
  },
  {
   "cell_type": "code",
   "execution_count": null,
   "id": "celtic-consultancy",
   "metadata": {},
   "outputs": [],
   "source": [
    "from lxml import html\n",
    "\n",
    "tree = html.fromstring(req.text)"
   ]
  },
  {
   "cell_type": "code",
   "execution_count": null,
   "id": "combined-greek",
   "metadata": {},
   "outputs": [],
   "source": [
    "tree.xpath('//*[@id=\"pageContent\"]/div[3]/pre/text()')[0]"
   ]
  },
  {
   "cell_type": "code",
   "execution_count": 2,
   "id": "married-software",
   "metadata": {},
   "outputs": [],
   "source": [
    "import os, sys\n",
    "dir = os.path.abspath('../')\n",
    "sys.path.append(dir)\n",
    "\n",
    "from query.api import execute_query, get_default_adapter\n",
    "\n",
    "\n",
    "adapter = get_default_adapter()"
   ]
  },
  {
   "cell_type": "code",
   "execution_count": 6,
   "id": "hydraulic-procurement",
   "metadata": {},
   "outputs": [
    {
     "data": {
      "text/plain": [
       "[{'contest_id': 1500,\n",
       "  'contest_name': 'Codeforces Round #707 (Div. 1, based on Moscow Open Olympiad in Informatics)',\n",
       "  'submission_id': 109935527,\n",
       "  'language': 'Haskell'},\n",
       " {'contest_id': 1500,\n",
       "  'contest_name': 'Codeforces Round #707 (Div. 1, based on Moscow Open Olympiad in Informatics)',\n",
       "  'submission_id': 109935414,\n",
       "  'language': 'Haskell'},\n",
       " {'contest_id': 1500,\n",
       "  'contest_name': 'Codeforces Round #707 (Div. 1, based on Moscow Open Olympiad in Informatics)',\n",
       "  'submission_id': 109935343,\n",
       "  'language': 'Haskell'},\n",
       " {'contest_id': 1500,\n",
       "  'contest_name': 'Codeforces Round #707 (Div. 1, based on Moscow Open Olympiad in Informatics)',\n",
       "  'submission_id': 109935280,\n",
       "  'language': 'Haskell'},\n",
       " {'contest_id': 1500,\n",
       "  'contest_name': 'Codeforces Round #707 (Div. 1, based on Moscow Open Olympiad in Informatics)',\n",
       "  'submission_id': 109935040,\n",
       "  'language': 'Haskell'}]"
      ]
     },
     "execution_count": 6,
     "metadata": {},
     "output_type": "execute_result"
    }
   ],
   "source": [
    "query = \"\"\"\n",
    "{\n",
    "    Contest {\n",
    "        id \n",
    "            @filter(op_name: \">=\", value: [\"$min_id\"]) \n",
    "            @filter(op_name: \"<=\", value: [\"$max_id\"]) \n",
    "            @output(out_name: \"contest_id\")\n",
    "        name @output(out_name: \"contest_name\")\n",
    "        \n",
    "        out_Contest_Submission {\n",
    "            id @output(out_name: \"submission_id\")\n",
    "            programmingLanguage \n",
    "                @filter(op_name: \"=\", value: [\"$lang_name\"])\n",
    "                @output(out_name: \"language\")\n",
    "        }\n",
    "    }\n",
    "}\n",
    "\"\"\"\n",
    "\n",
    "args = {\n",
    "    \"min_id\": 1498,\n",
    "    \"max_id\": 1500,\n",
    "    \"lang_name\": \"Haskell\",\n",
    "}\n",
    "\n",
    "res = list(execute_query(adapter, query, args))\n",
    "res"
   ]
  },
  {
   "cell_type": "code",
   "execution_count": 5,
   "id": "russian-blowing",
   "metadata": {},
   "outputs": [
    {
     "name": "stdout",
     "output_type": "stream",
     "text": [
      "{'Clang++17 Diagnostics', 'FPC', 'Mono C#', 'MS C++ 2017', 'Delphi', 'MS C++', 'Python 2', 'GNU C++14', 'Perl', 'GNU C++17 (64)', 'Ruby 3', 'GNU C++11', 'Haskell', 'Java 8', 'PyPy 2', 'Java 11', 'GNU C11', 'PyPy 3', 'Kotlin', 'Scala', 'GNU C++17', 'Rust', 'Go', 'Python 3', 'JavaScript', 'Node.js', '.NET Core C#'}\n"
     ]
    }
   ],
   "source": [
    "langs = set(map(lambda x: x['language'], res))\n",
    "print(langs)"
   ]
  },
  {
   "cell_type": "code",
   "execution_count": null,
   "id": "fatty-testimony",
   "metadata": {},
   "outputs": [],
   "source": [
    "query = \"\"\"\n",
    "{\n",
    "    Submission {\n",
    "        name @output(out_name: \"contest_name\")\n",
    "    }\n",
    "}\n",
    "\"\"\"\n",
    "\n",
    "list(execute_query(adapter, query, {}))"
   ]
  }
 ],
 "metadata": {
  "kernelspec": {
   "display_name": "Python 3",
   "language": "python",
   "name": "python3"
  },
  "language_info": {
   "codemirror_mode": {
    "name": "ipython",
    "version": 3
   },
   "file_extension": ".py",
   "mimetype": "text/x-python",
   "name": "python",
   "nbconvert_exporter": "python",
   "pygments_lexer": "ipython3",
   "version": "3.8.1"
  }
 },
 "nbformat": 4,
 "nbformat_minor": 5
}
