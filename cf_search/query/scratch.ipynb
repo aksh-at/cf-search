{
 "cells": [
  {
   "cell_type": "code",
   "execution_count": null,
   "id": "professional-connection",
   "metadata": {},
   "outputs": [],
   "source": [
    "import requests\n",
    "\n",
    "contests = requests.get(\"https://codeforces.com/api/contest.list\").json()"
   ]
  },
  {
   "cell_type": "code",
   "execution_count": null,
   "id": "medical-correlation",
   "metadata": {},
   "outputs": [],
   "source": [
    "contests"
   ]
  },
  {
   "cell_type": "code",
   "execution_count": null,
   "id": "miniature-childhood",
   "metadata": {},
   "outputs": [],
   "source": [
    "subs = requests.get(\"https://codeforces.com/api/contest.status?contestId=1500&from=1&count=100\").json()"
   ]
  },
  {
   "cell_type": "code",
   "execution_count": null,
   "id": "saved-hostel",
   "metadata": {},
   "outputs": [],
   "source": [
    "subs"
   ]
  },
  {
   "cell_type": "code",
   "execution_count": null,
   "id": "motivated-syntax",
   "metadata": {},
   "outputs": [],
   "source": [
    "req = requests.get(\"https://codeforces.com/contest/1497/submission/110946701\")\n",
    "print(req.text)"
   ]
  },
  {
   "cell_type": "code",
   "execution_count": null,
   "id": "celtic-consultancy",
   "metadata": {},
   "outputs": [],
   "source": [
    "from lxml import html\n",
    "\n",
    "tree = html.fromstring(req.text)"
   ]
  },
  {
   "cell_type": "code",
   "execution_count": null,
   "id": "combined-greek",
   "metadata": {},
   "outputs": [],
   "source": [
    "tree.xpath('//*[@id=\"pageContent\"]/div[3]/pre/text()')[0]"
   ]
  },
  {
   "cell_type": "code",
   "execution_count": null,
   "id": "married-software",
   "metadata": {},
   "outputs": [],
   "source": [
    "import os, sys\n",
    "dir = os.path.abspath('../')\n",
    "sys.path.append(dir)\n",
    "\n",
    "from query.api import execute_query, get_default_adapter"
   ]
  },
  {
   "cell_type": "code",
   "execution_count": null,
   "id": "hydraulic-procurement",
   "metadata": {},
   "outputs": [],
   "source": [
    "query = \"\"\"\n",
    "{\n",
    "    Contest {\n",
    "        name @output(out_name: \"contest_name\")\n",
    "    }\n",
    "}\n",
    "\"\"\"\n",
    "\n",
    "adapter = get_default_adapter()\n",
    "\n",
    "list(execute_query(adapter, query, {}))\n"
   ]
  },
  {
   "cell_type": "code",
   "execution_count": null,
   "id": "fatty-testimony",
   "metadata": {},
   "outputs": [],
   "source": []
  }
 ],
 "metadata": {
  "kernelspec": {
   "display_name": "Python 3",
   "language": "python",
   "name": "python3"
  },
  "language_info": {
   "codemirror_mode": {
    "name": "ipython",
    "version": 3
   },
   "file_extension": ".py",
   "mimetype": "text/x-python",
   "name": "python",
   "nbconvert_exporter": "python",
   "pygments_lexer": "ipython3",
   "version": "3.8.1"
  }
 },
 "nbformat": 4,
 "nbformat_minor": 5
}
