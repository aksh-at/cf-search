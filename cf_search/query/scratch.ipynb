{
 "cells": [
  {
   "cell_type": "code",
   "execution_count": null,
   "id": "professional-connection",
   "metadata": {},
   "outputs": [],
   "source": [
    "import requests\n",
    "\n",
    "contests = requests.get(\"https://codeforces.com/api/contest.list\").json()"
   ]
  },
  {
   "cell_type": "code",
   "execution_count": null,
   "id": "medical-correlation",
   "metadata": {},
   "outputs": [],
   "source": [
    "contests"
   ]
  },
  {
   "cell_type": "code",
   "execution_count": null,
   "id": "miniature-childhood",
   "metadata": {},
   "outputs": [],
   "source": [
    "import requests\n",
    "\n",
    "subs = requests.get(\"https://codeforces.com/api/contest.status?contestId=1500&from=1&count=10000\").json()"
   ]
  },
  {
   "cell_type": "code",
   "execution_count": null,
   "id": "saved-hostel",
   "metadata": {},
   "outputs": [],
   "source": [
    "subs[\"result\"][2]"
   ]
  },
  {
   "cell_type": "code",
   "execution_count": null,
   "id": "automated-conversion",
   "metadata": {},
   "outputs": [],
   "source": [
    "import requests\n",
    "\n",
    "probs = requests.get(\"https://codeforces.com/api/problemset.problems\")\n",
    "print(probs)"
   ]
  },
  {
   "cell_type": "code",
   "execution_count": null,
   "id": "loved-schedule",
   "metadata": {},
   "outputs": [],
   "source": [
    "res = probs.json()[\"result\"]\n",
    "print(res[\"problems\"][1240])\n",
    "print(res[\"problemStatistics\"][5].get(\"rating\"))"
   ]
  },
  {
   "cell_type": "code",
   "execution_count": null,
   "id": "motivated-syntax",
   "metadata": {},
   "outputs": [],
   "source": [
    "req = requests.get(\"https://codeforces.com/contest/1497/submission/110946701\")\n",
    "print(req.status_code)"
   ]
  },
  {
   "cell_type": "code",
   "execution_count": null,
   "id": "celtic-consultancy",
   "metadata": {},
   "outputs": [],
   "source": [
    "from lxml import html\n",
    "\n",
    "tree = html.fromstring(req.text)"
   ]
  },
  {
   "cell_type": "code",
   "execution_count": null,
   "id": "combined-greek",
   "metadata": {},
   "outputs": [],
   "source": [
    "tree.xpath('//*[@id=\"pageContent\"]/div[3]/pre/text()')[0]"
   ]
  },
  {
   "cell_type": "code",
   "execution_count": 1,
   "id": "married-software",
   "metadata": {},
   "outputs": [],
   "source": [
    "import os, sys\n",
    "dir = os.path.abspath('../')\n",
    "sys.path.append(dir)\n",
    "\n",
    "from query.api import execute_query, get_default_adapter\n",
    "\n",
    "\n",
    "adapter = get_default_adapter()"
   ]
  },
  {
   "cell_type": "code",
   "execution_count": null,
   "id": "hydraulic-procurement",
   "metadata": {},
   "outputs": [],
   "source": [
    "query = \"\"\"\n",
    "{\n",
    "    Contest {\n",
    "        id \n",
    "            @filter(op_name: \">=\", value: [\"$min_id\"]) \n",
    "            @filter(op_name: \"<=\", value: [\"$max_id\"]) \n",
    "            @output(out_name: \"contest_id\")\n",
    "        name @output(out_name: \"contest_name\")\n",
    "        \n",
    "        out_Contest_Submission {\n",
    "            id @output(out_name: \"submission_id\")\n",
    "            programming_language \n",
    "                @filter(op_name: \"=\", value: [\"$lang_name\"])\n",
    "                @output(out_name: \"language\")\n",
    "            verdict \n",
    "                @filter(op_name: \"=\", value: [\"$verdict\"])\n",
    "                @output(out_name: \"verdict\")\n",
    "                \n",
    "            out_Submission_Source {\n",
    "                source_code @output(out_name: \"source_code\")\n",
    "            }\n",
    "        }\n",
    "    }\n",
    "}\n",
    "\"\"\"\n",
    "\n",
    "args = {\n",
    "    \"min_id\": 1497,\n",
    "    \"max_id\": 1497,\n",
    "    \"lang_name\": \"Haskell\",\n",
    "    \"verdict\": \"OK\",\n",
    "}\n",
    "\n",
    "res = list(execute_query(adapter, query, args))\n",
    "res"
   ]
  },
  {
   "cell_type": "code",
   "execution_count": null,
   "id": "russian-blowing",
   "metadata": {},
   "outputs": [],
   "source": [
    "langs = set(map(lambda x: x['language'], res))\n",
    "print(langs)"
   ]
  },
  {
   "cell_type": "code",
   "execution_count": 3,
   "id": "fatty-testimony",
   "metadata": {},
   "outputs": [
    {
     "data": {
      "text/plain": [
       "[{'name': 'Balance the Cards', 'solved_count': 12},\n",
       " {'name': '2-Coloring', 'solved_count': 39},\n",
       " {'name': 'Cupboards Jumps', 'solved_count': 31},\n",
       " {'name': 'Ruler Of The Zoo', 'solved_count': 28},\n",
       " {'name': 'Flower Shop', 'solved_count': 7},\n",
       " {'name': 'Demonic Invasion', 'solved_count': 14},\n",
       " {'name': 'Build From Suffixes', 'solved_count': 25},\n",
       " {'name': 'Strange Covering', 'solved_count': 31},\n",
       " {'name': 'My Beautiful Madness', 'solved_count': 50},\n",
       " {'name': 'Multithreading (Hard Version)', 'solved_count': 43},\n",
       " {'name': 'Long Recovery', 'solved_count': 39},\n",
       " {'name': 'Differentiating Games', 'solved_count': 36},\n",
       " {'name': 'Zero-XOR Array', 'solved_count': 12},\n",
       " {'name': 'Cyclic Shifts', 'solved_count': 21},\n",
       " {'name': 'Rogue-like Game', 'solved_count': 49},\n",
       " {'name': 'Rotary Laser Lock', 'solved_count': 28},\n",
       " {'name': 'Prison Break', 'solved_count': 28},\n",
       " {'name': 'Captain of Knights', 'solved_count': 17},\n",
       " {'name': 'BubbleSquare Tokens', 'solved_count': 36},\n",
       " {'name': 'Growing flowers', 'solved_count': 27},\n",
       " {'name': '5G Antenna Towers', 'solved_count': 35},\n",
       " {'name': 'Does anyone else hate the wind?', 'solved_count': 11},\n",
       " {'name': \"Dušan's Railway\", 'solved_count': 31},\n",
       " {'name': 'Wakanda Forever', 'solved_count': 27},\n",
       " {'name': 'Chess Rush', 'solved_count': 31},\n",
       " {'name': 'Boboniu and Banknote Collection', 'solved_count': 45},\n",
       " {'name': 'Root of quantum Fourier transform', 'solved_count': 40},\n",
       " {'name': 'Slime and Hats', 'solved_count': 35},\n",
       " {'name': 'Pac-Man 2.0', 'solved_count': 21},\n",
       " {'name': 'Game with Segments', 'solved_count': 25},\n",
       " {'name': 'Nastya and Bees', 'solved_count': 38},\n",
       " {'name': 'Spiderweb Trees', 'solved_count': 33},\n",
       " {'name': 'Assigning Fares', 'solved_count': 36},\n",
       " {'name': 'Blocks and Sensors', 'solved_count': 47},\n",
       " {'name': 'Bad Cryptography', 'solved_count': 38},\n",
       " {'name': 'Kuroni the Private Tutor', 'solved_count': 40},\n",
       " {'name': 'Keep talking and nobody explodes -- hard', 'solved_count': 8},\n",
       " {'name': 'Deja vu', 'solved_count': 1},\n",
       " {'name': 'Who needs suffix structures?', 'solved_count': 8},\n",
       " {'name': 'Keep talking and nobody explodes -- medium', 'solved_count': 22},\n",
       " {'name': 'Amazing bitset', 'solved_count': 43},\n",
       " {'name': 'Falling Blocks', 'solved_count': 14},\n",
       " {'name': 'Paint the String', 'solved_count': 18},\n",
       " {'name': 'M-numbers', 'solved_count': 49},\n",
       " {'name': 'Intergalactic Sliding Puzzle', 'solved_count': 35},\n",
       " {'name': 'Four Stones', 'solved_count': 39},\n",
       " {'name': 'Help BerLine', 'solved_count': 46},\n",
       " {'name': 'Red-Blue Graph', 'solved_count': 33},\n",
       " {'name': 'Mission Possible', 'solved_count': 24},\n",
       " {'name': 'Geolocation', 'solved_count': 28},\n",
       " {'name': 'Alpha planetary system', 'solved_count': 21},\n",
       " {'name': 'Guarding warehouses', 'solved_count': 31},\n",
       " {'name': 'Unusual Graph', 'solved_count': 20},\n",
       " {'name': 'Road Repair in Treeland', 'solved_count': 27},\n",
       " {'name': \"King's Path\", 'solved_count': 48},\n",
       " {'name': 'Mateusz and Escape Room', 'solved_count': 37},\n",
       " {'name': 'Scissors and Tape', 'solved_count': 21},\n",
       " {'name': 'Building Skyscrapers', 'solved_count': 45},\n",
       " {'name': 'Parallel Universes (Hard)', 'solved_count': 21},\n",
       " {'name': 'Heidi and the Turing Test (Hard)', 'solved_count': 24},\n",
       " {'name': 'Good Subsets', 'solved_count': 20},\n",
       " {'name': 'Longest Saw', 'solved_count': 29},\n",
       " {'name': 'Collaboration', 'solved_count': 0},\n",
       " {'name': 'Not A, not B or not C?', 'solved_count': 47},\n",
       " {'name': 'Combostone', 'solved_count': 50},\n",
       " {'name': 'Algoland and Berland', 'solved_count': 43},\n",
       " {'name': 'Jellyfish Nightmare', 'solved_count': 44},\n",
       " {'name': 'Pisces', 'solved_count': 41},\n",
       " {'name': 'The Moral Dilemma', 'solved_count': 30},\n",
       " {'name': 'Death Stars (hard)', 'solved_count': 29},\n",
       " {'name': 'Astronomy', 'solved_count': 34},\n",
       " {'name': 'BuberPool Taxi Optimization', 'solved_count': 1},\n",
       " {'name': 'Public Service', 'solved_count': 40},\n",
       " {'name': 'Labyrinth-14', 'solved_count': 0},\n",
       " {'name': 'Labyrinth-13', 'solved_count': 0},\n",
       " {'name': 'Labyrinth-12', 'solved_count': 0},\n",
       " {'name': 'Labyrinth-11', 'solved_count': 0},\n",
       " {'name': 'Labyrinth-10', 'solved_count': 0},\n",
       " {'name': 'Labyrinth-9', 'solved_count': 0},\n",
       " {'name': 'Labyrinth-8', 'solved_count': 0},\n",
       " {'name': 'Labyrinth-7', 'solved_count': 0},\n",
       " {'name': 'Labyrinth-6', 'solved_count': 0},\n",
       " {'name': 'Labyrinth-5', 'solved_count': 0},\n",
       " {'name': 'Labyrinth-4', 'solved_count': 0},\n",
       " {'name': 'Labyrinth-3', 'solved_count': 0},\n",
       " {'name': 'Labyrinth-2', 'solved_count': 0},\n",
       " {'name': 'Labyrinth-1', 'solved_count': 0},\n",
       " {'name': 'Egg Roulette', 'solved_count': 37},\n",
       " {'name': 'Graphic Settings', 'solved_count': 34},\n",
       " {'name': 'To Play or not to Play', 'solved_count': 47},\n",
       " {'name': 'Satellites', 'solved_count': 46},\n",
       " {'name': 'Lada Malina', 'solved_count': 43},\n",
       " {'name': 'Expected Earnings', 'solved_count': 38},\n",
       " {'name': 'University Schedule', 'solved_count': 0},\n",
       " {'name': 'Math, math everywhere', 'solved_count': 36},\n",
       " {'name': 'Dirty plates', 'solved_count': 47},\n",
       " {'name': 'Expression Queries', 'solved_count': 44},\n",
       " {'name': 'Array Covering', 'solved_count': 49},\n",
       " {'name': 'Cipher', 'solved_count': 33},\n",
       " {'name': 'Tree of Life (hard)', 'solved_count': 28},\n",
       " {'name': 'Tree of Life (medium)', 'solved_count': 50},\n",
       " {'name': 'The Hero with Bombs', 'solved_count': 27},\n",
       " {'name': 'Loader', 'solved_count': 25},\n",
       " {'name': 'Rotate Matrix', 'solved_count': 37},\n",
       " {'name': 'Hungarian Notation', 'solved_count': 36},\n",
       " {'name': 'Different variables', 'solved_count': 36},\n",
       " {'name': 'Flow Optimality', 'solved_count': 48},\n",
       " {'name': 'Suffix Subgroup', 'solved_count': 39},\n",
       " {'name': 'Superstitions Inspection', 'solved_count': 35},\n",
       " {'name': 'Black Cat Rush', 'solved_count': 34},\n",
       " {'name': 'Spider', 'solved_count': 41},\n",
       " {'name': \"The Beaver's Problem - 3\", 'solved_count': 38},\n",
       " {'name': \"The Beaver's Problem - 3\", 'solved_count': 43},\n",
       " {'name': \"The Beaver's Problem - 3\", 'solved_count': 44},\n",
       " {'name': \"The Beaver's Problem - 3\", 'solved_count': 41},\n",
       " {'name': \"The Beaver's Problem - 3\", 'solved_count': 45},\n",
       " {'name': \"The Beaver's Problem - 3\", 'solved_count': 45},\n",
       " {'name': \"The Beaver's Problem - 3\", 'solved_count': 50},\n",
       " {'name': \"The Beaver's Problem - 3\", 'solved_count': 40},\n",
       " {'name': 'Game with Two Trees', 'solved_count': 37},\n",
       " {'name': 'Game with Two Trees', 'solved_count': 40},\n",
       " {'name': 'Gnomes of Might and Magic', 'solved_count': 48},\n",
       " {'name': 'Polycarpus and Tasks', 'solved_count': 44},\n",
       " {'name': 'Truncatable primes', 'solved_count': 50},\n",
       " {'name': 'Non-decimal sum', 'solved_count': 38},\n",
       " {'name': 'Help Greg the Dwarf 2', 'solved_count': 44},\n",
       " {'name': 'Petya and Rectangle', 'solved_count': 44},\n",
       " {'name': 'Interval Coloring', 'solved_count': 41},\n",
       " {'name': 'INI-file', 'solved_count': 48},\n",
       " {'name': 'Contact', 'solved_count': 44},\n",
       " {'name': 'BerPaint', 'solved_count': 45}]"
      ]
     },
     "execution_count": 3,
     "metadata": {},
     "output_type": "execute_result"
    }
   ],
   "source": [
    "query = \"\"\"\n",
    "{\n",
    "    Problem {\n",
    "        name @output(out_name: \"name\")\n",
    "        solved_count\n",
    "            @filter(op_name: \"<=\", value: [\"$max_solves\"])\n",
    "            @output(out_name: \"solved_count\")\n",
    "    }\n",
    "}\n",
    "\"\"\"\n",
    "\n",
    "args = {\n",
    "    \"max_solves\": 50,\n",
    "}\n",
    "\n",
    "res = list(execute_query(adapter, query, args))\n",
    "res"
   ]
  },
  {
   "cell_type": "code",
   "execution_count": null,
   "id": "sonic-movie",
   "metadata": {},
   "outputs": [],
   "source": []
  }
 ],
 "metadata": {
  "kernelspec": {
   "display_name": "Python 3",
   "language": "python",
   "name": "python3"
  },
  "language_info": {
   "codemirror_mode": {
    "name": "ipython",
    "version": 3
   },
   "file_extension": ".py",
   "mimetype": "text/x-python",
   "name": "python",
   "nbconvert_exporter": "python",
   "pygments_lexer": "ipython3",
   "version": "3.8.1"
  }
 },
 "nbformat": 4,
 "nbformat_minor": 5
}
